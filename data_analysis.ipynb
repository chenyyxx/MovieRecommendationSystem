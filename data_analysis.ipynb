{
 "cells": [
  {
   "cell_type": "code",
   "execution_count": 10,
   "metadata": {
    "collapsed": true
   },
   "outputs": [],
   "source": [
    "#https://grouplens.org/datasets/movielens/\n",
    "import pandas as pd\n",
    "from pyspark.sql.functions import col, explode\n",
    "from pyspark import SparkContext\n",
    "from pyspark.sql import functions as F"
   ]
  },
  {
   "cell_type": "code",
   "execution_count": 2,
   "outputs": [
    {
     "name": "stderr",
     "output_type": "stream",
     "text": [
      "22/04/11 23:52:21 WARN NativeCodeLoader: Unable to load native-hadoop library for your platform... using builtin-java classes where applicable\n",
      "Using Spark's default log4j profile: org/apache/spark/log4j-defaults.properties\n",
      "Setting default log level to \"WARN\".\n",
      "To adjust logging level use sc.setLogLevel(newLevel). For SparkR, use setLogLevel(newLevel).\n",
      "22/04/11 23:52:23 WARN Utils: Service 'SparkUI' could not bind on port 4040. Attempting port 4041.\n"
     ]
    }
   ],
   "source": [
    "from pyspark.sql import SparkSession\n",
    "\n",
    "sc = SparkContext\n",
    "# sc.setCheckpointDir('checkpoint')\n",
    "spark = SparkSession.builder.config(\"spark.driver.memory\", \"4g\")\n",
    "spark = spark.appName('Recommendations').getOrCreate()"
   ],
   "metadata": {
    "collapsed": false,
    "pycharm": {
     "name": "#%%\n"
    }
   }
  },
  {
   "cell_type": "code",
   "execution_count": 3,
   "outputs": [
    {
     "name": "stderr",
     "output_type": "stream",
     "text": [
      "                                                                                \r"
     ]
    }
   ],
   "source": [
    "movies = spark.read.csv(\"data/movies.csv\",header=True)\n",
    "ratings = spark.read.csv(\"data/ratings.csv\",header=True)"
   ],
   "metadata": {
    "collapsed": false,
    "pycharm": {
     "name": "#%%\n"
    }
   }
  },
  {
   "cell_type": "code",
   "execution_count": 34,
   "outputs": [
    {
     "name": "stderr",
     "output_type": "stream",
     "text": [
      "[Stage 31:=====================>                                    (3 + 5) / 8]\r"
     ]
    },
    {
     "name": "stdout",
     "output_type": "stream",
     "text": [
      "+------------------+------------------+\n",
      "|average rating    |genre             |\n",
      "+------------------+------------------+\n",
      "|3.9257281769386028|Film-Noir         |\n",
      "|3.7914657875591984|War               |\n",
      "|3.7052805249822454|Documentary       |\n",
      "|3.685043693003225 |Crime             |\n",
      "|3.677184674800756 |Drama             |\n",
      "|3.670169244577933 |Mystery           |\n",
      "|3.614946348438093 |Animation         |\n",
      "|3.6037121959523324|IMAX              |\n",
      "|3.5857553061515595|Western           |\n",
      "|3.554715987107105 |Musical           |\n",
      "|3.5427121571630567|Romance           |\n",
      "|3.5229643285084498|Thriller          |\n",
      "|3.517444633654892 |Adventure         |\n",
      "|3.5115889157486   |Fantasy           |\n",
      "|3.4781433928067798|Sci-Fi            |\n",
      "|3.4665917497681593|Action            |\n",
      "|3.4325074920278045|Children          |\n",
      "|3.4239925478057365|Comedy            |\n",
      "|3.326379239118188 |(no genres listed)|\n",
      "|3.2935633075659174|Horror            |\n",
      "+------------------+------------------+\n",
      "\n"
     ]
    },
    {
     "name": "stderr",
     "output_type": "stream",
     "text": [
      "                                                                                \r"
     ]
    }
   ],
   "source": [
    "overallGenresByAverageRating = movies \\\n",
    "                .withColumn(\"genres\", F.split(col(\"genres\"), \"\\\\|\")) \\\n",
    "                .select(col(\"movieId\"), F.explode(col(\"genres\"))) \\\n",
    "                .join(ratings, movies.movieId == ratings.movieId) \\\n",
    "                .groupBy(col(\"col\")) \\\n",
    "                .agg(F.mean(\"rating\")) \\\n",
    "                .withColumnRenamed(\"col\", \"genre\") \\\n",
    "                .withColumnRenamed(\"avg(rating)\", \"average rating\") \\\n",
    "                .orderBy(col(\"average rating\").desc()) \\\n",
    "                .select(\"average rating\", \"genre\")\n",
    "overallGenresByAverageRating.show(truncate=False)"
   ],
   "metadata": {
    "collapsed": false,
    "pycharm": {
     "name": "#%%\n"
    }
   }
  },
  {
   "cell_type": "code",
   "execution_count": 25,
   "outputs": [
    {
     "name": "stderr",
     "output_type": "stream",
     "text": [
      "                                                                                \r"
     ]
    },
    {
     "name": "stdout",
     "output_type": "stream",
     "text": [
      "+-------------+-----------+------------------+\n",
      "|times related|genre      |most related genre|\n",
      "+-------------+-----------+------------------+\n",
      "|2406         |Action     |Drama             |\n",
      "|1652         |Adventure  |Action            |\n",
      "|1015         |Animation  |Children          |\n",
      "|1169         |Children   |Comedy            |\n",
      "|4603         |Comedy     |Drama             |\n",
      "|2996         |Crime      |Drama             |\n",
      "|245          |Documentary|Drama             |\n",
      "|4654         |Drama      |Romance           |\n",
      "|836          |Fantasy    |Comedy            |\n",
      "|258          |Film-Noir  |Drama             |\n",
      "|2181         |Horror     |Thriller          |\n",
      "|100          |IMAX       |Action            |\n",
      "|519          |Musical    |Comedy            |\n",
      "|1466         |Mystery    |Thriller          |\n",
      "|4654         |Romance    |Drama             |\n",
      "|1185         |Sci-Fi     |Action            |\n",
      "|3510         |Thriller   |Drama             |\n",
      "|1348         |War        |Drama             |\n",
      "|300          |Western    |Action            |\n",
      "+-------------+-----------+------------------+\n",
      "\n"
     ]
    }
   ],
   "source": [
    "def GenresCombinations(moviesDataset, ratingsDataset):\n",
    "\n",
    "    # Get a genres list.\n",
    "    firstGenresList = moviesDataset \\\n",
    "        .withColumn(\"genres\", F.split(col(\"genres\"), \"\\\\|\")) \\\n",
    "        .select(col(\"movieId\"), explode(col(\"genres\"))) \\\n",
    "        .withColumnRenamed(\"col\", \"genre\")\n",
    "\n",
    "    # Get a second list of genres with different column names for same-table join.\n",
    "    secondGenresList = firstGenresList \\\n",
    "        .withColumnRenamed(\"genre\", \"r_genre\") \\\n",
    "        .withColumnRenamed(\"movieId\", \"r_movieId\")\n",
    "\n",
    "    # Join both genre lists to get every combination. Group by both genres in the combination. Count repetitions and filter the greatest for each one.\n",
    "    greatestCombinationByGenre = firstGenresList \\\n",
    "        .join(secondGenresList, firstGenresList.genre != secondGenresList.r_genre) \\\n",
    "        .where(firstGenresList.movieId == secondGenresList.r_movieId) \\\n",
    "        .groupBy(\"genre\", \"r_genre\") \\\n",
    "        .count() \\\n",
    "        .orderBy(col(\"count\").desc()) \\\n",
    "        .groupBy(\"genre\") \\\n",
    "        .agg(F.first(\"r_genre\").alias(\"most related genre\"), F.max(\"count\").alias(\"times related\")) \\\n",
    "        .orderBy(\"genre\") \\\n",
    "        .select(\"times related\", \"genre\", \"most related genre\")\n",
    "\n",
    "    return greatestCombinationByGenre\n",
    "GenresCombinations(movies, ratings).show(truncate=False)"
   ],
   "metadata": {
    "collapsed": false,
    "pycharm": {
     "name": "#%%\n"
    }
   }
  },
  {
   "cell_type": "code",
   "execution_count": 26,
   "outputs": [
    {
     "name": "stderr",
     "output_type": "stream",
     "text": [
      "[Stage 23:==================================================>       (7 + 1) / 8]\r"
     ]
    },
    {
     "name": "stdout",
     "output_type": "stream",
     "text": [
      "+------------------+-------------------------------------------+\n",
      "|average score     |title                                      |\n",
      "+------------------+-------------------------------------------+\n",
      "|4.413576004516335 |Shawshank Redemption, The (1994)           |\n",
      "|4.324336165187245 |Godfather, The (1972)                      |\n",
      "|4.284353213163313 |Usual Suspects, The (1995)                 |\n",
      "|4.2617585117585115|Godfather: Part II, The (1974)             |\n",
      "|4.25476920775043  |Seven Samurai (Shichinin no samurai) (1954)|\n",
      "|4.247579083279535 |Schindler's List (1993)                    |\n",
      "|4.243014062405697 |12 Angry Men (1957)                        |\n",
      "|4.237947624243627 |Rear Window (1954)                         |\n",
      "|4.228310618821568 |Fight Club (1999)                          |\n",
      "|4.2186616007543405|One Flew Over the Cuckoo's Nest (1975)     |\n",
      "+------------------+-------------------------------------------+\n",
      "\n"
     ]
    },
    {
     "name": "stderr",
     "output_type": "stream",
     "text": [
      "                                                                                \r"
     ]
    }
   ],
   "source": [
    "#find the best movies\n",
    "qulifyingMovies = ratings.groupBy(\"movieId\").agg(F.mean(\"rating\"), F.count(\"rating\")).filter(\"count(rating) >= 5000\")\n",
    "tenGreatestMoviesByAverageRating = movies.join(qulifyingMovies, movies.movieId == ratings.movieId).select(\"avg(rating)\", \"title\").orderBy(col(\"avg(rating)\").desc()).limit(10).withColumnRenamed(\"avg(rating)\", \"average score\");\n",
    "tenGreatestMoviesByAverageRating.show(truncate=False)"
   ],
   "metadata": {
    "collapsed": false,
    "pycharm": {
     "name": "#%%\n"
    }
   }
  },
  {
   "cell_type": "code",
   "execution_count": 27,
   "outputs": [
    {
     "name": "stderr",
     "output_type": "stream",
     "text": [
      "[Stage 27:==================================================>       (7 + 1) / 8]\r"
     ]
    },
    {
     "name": "stdout",
     "output_type": "stream",
     "text": [
      "+------------------+------------------------------+\n",
      "|average score     |title                         |\n",
      "+------------------+------------------------------+\n",
      "|1.9109178743961353|Speed 2: Cruise Control (1997)|\n",
      "|2.06153416495997  |Super Mario Bros. (1993)      |\n",
      "|2.0795168595873177|Anaconda (1997)               |\n",
      "|2.160149918962723 |Batman & Robin (1997)         |\n",
      "|2.2478297395687483|Showgirls (1995)              |\n",
      "|2.31967073274759  |Wild Wild West (1999)         |\n",
      "|2.373144567793439 |Godzilla (1998)               |\n",
      "|2.391414554374489 |Twilight (2008)               |\n",
      "|2.403895524054024 |Striptease (1996)             |\n",
      "|2.4127870563674323|Flintstones, The (1994)       |\n",
      "+------------------+------------------------------+\n",
      "\n"
     ]
    },
    {
     "name": "stderr",
     "output_type": "stream",
     "text": [
      "                                                                                \r"
     ]
    }
   ],
   "source": [
    "#find the worst movies\n",
    "qulifyingMovies = ratings.groupBy(\"movieId\").agg(F.mean(\"rating\"), F.count(\"rating\")).filter(\"count(rating) >= 5000\")\n",
    "tenGreatestMoviesByAverageRating = movies.join(qulifyingMovies, movies.movieId == ratings.movieId).select(\"avg(rating)\", \"title\").orderBy(col(\"avg(rating)\").asc()).limit(10).withColumnRenamed(\"avg(rating)\", \"average score\");\n",
    "tenGreatestMoviesByAverageRating.show(truncate=False)"
   ],
   "metadata": {
    "collapsed": false,
    "pycharm": {
     "name": "#%%\n"
    }
   }
  },
  {
   "cell_type": "code",
   "execution_count": 21,
   "outputs": [
    {
     "data": {
      "text/plain": "pyspark.sql.dataframe.DataFrame"
     },
     "execution_count": 21,
     "metadata": {},
     "output_type": "execute_result"
    }
   ],
   "source": [
    "type(tenGreatestMoviesByAverageRating)"
   ],
   "metadata": {
    "collapsed": false,
    "pycharm": {
     "name": "#%%\n"
    }
   }
  },
  {
   "cell_type": "code",
   "execution_count": 4,
   "outputs": [
    {
     "name": "stdout",
     "output_type": "stream",
     "text": [
      "+------+-------+------+\n",
      "|userId|movieId|rating|\n",
      "+------+-------+------+\n",
      "|     1|    296|   5.0|\n",
      "|     1|    306|   3.5|\n",
      "|     1|    307|   5.0|\n",
      "|     1|    665|   5.0|\n",
      "|     1|    899|   3.5|\n",
      "|     1|   1088|   4.0|\n",
      "|     1|   1175|   3.5|\n",
      "|     1|   1217|   3.5|\n",
      "|     1|   1237|   5.0|\n",
      "|     1|   1250|   4.0|\n",
      "|     1|   1260|   3.5|\n",
      "|     1|   1653|   4.0|\n",
      "|     1|   2011|   2.5|\n",
      "|     1|   2012|   2.5|\n",
      "|     1|   2068|   2.5|\n",
      "|     1|   2161|   3.5|\n",
      "|     1|   2351|   4.5|\n",
      "|     1|   2573|   4.0|\n",
      "|     1|   2632|   5.0|\n",
      "|     1|   2692|   5.0|\n",
      "+------+-------+------+\n",
      "only showing top 20 rows\n",
      "\n"
     ]
    }
   ],
   "source": [
    "ratings = ratings.\\\n",
    "    withColumn('userId', col('userId').cast('integer')).\\\n",
    "    withColumn('movieId', col('movieId').cast('integer')).\\\n",
    "    withColumn('rating', col('rating').cast('float')).\\\n",
    "    drop('timestamp')\n",
    "ratings.show()"
   ],
   "metadata": {
    "collapsed": false,
    "pycharm": {
     "name": "#%%\n"
    }
   }
  },
  {
   "cell_type": "code",
   "execution_count": 5,
   "outputs": [
    {
     "name": "stderr",
     "output_type": "stream",
     "text": [
      "[Stage 9:===================================>                   (130 + 8) / 200]\r"
     ]
    },
    {
     "name": "stdout",
     "output_type": "stream",
     "text": [
      "The ratings dataframe is  99.74% empty.\n"
     ]
    },
    {
     "name": "stderr",
     "output_type": "stream",
     "text": [
      "                                                                                \r"
     ]
    }
   ],
   "source": [
    "# Count the total number of ratings in the dataset\n",
    "numerator = ratings.select(\"rating\").count()\n",
    "\n",
    "# Count the number of distinct userIds and distinct movieIds\n",
    "num_users = ratings.select(\"userId\").distinct().count()\n",
    "num_movies = ratings.select(\"movieId\").distinct().count()\n",
    "\n",
    "# Set the denominator equal to the number of users multiplied by the number of movies\n",
    "denominator = num_users * num_movies\n",
    "\n",
    "# Divide the numerator by the denominator\n",
    "sparsity = (1.0 - (numerator *1.0)/denominator)*100\n",
    "print(\"The ratings dataframe is \", \"%.2f\" % sparsity + \"% empty.\")"
   ],
   "metadata": {
    "collapsed": false,
    "pycharm": {
     "name": "#%%\n"
    }
   }
  }
 ],
 "metadata": {
  "kernelspec": {
   "display_name": "Python 3",
   "language": "python",
   "name": "python3"
  },
  "language_info": {
   "codemirror_mode": {
    "name": "ipython",
    "version": 2
   },
   "file_extension": ".py",
   "mimetype": "text/x-python",
   "name": "python",
   "nbconvert_exporter": "python",
   "pygments_lexer": "ipython2",
   "version": "2.7.6"
  }
 },
 "nbformat": 4,
 "nbformat_minor": 0
}